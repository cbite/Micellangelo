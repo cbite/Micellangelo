{
 "cells": [
  {
   "cell_type": "code",
   "execution_count": 21,
   "id": "4a1f4296",
   "metadata": {},
   "outputs": [],
   "source": [
    "import pandas as pd\n",
    "import numpy as np\n",
    "fname_nuclei = 'NoNeighboursNucleiNoNeighbours.csv'\n",
    "fname_actin = 'NoNeighboursActinwithoutNeighbours.csv' \n",
    "fname_QC_classification = 'QC_Classifier_table.csv'"
   ]
  },
  {
   "cell_type": "code",
   "execution_count": 22,
   "id": "c94d0097",
   "metadata": {},
   "outputs": [],
   "source": [
    "nuclei_table = pd.read_csv(fname_nuclei)\n",
    "actin_table = pd.read_csv(fname_actin)\n",
    "QC_classifier_table = pd.read_csv(fname_QC_classification)"
   ]
  },
  {
   "cell_type": "code",
   "execution_count": 23,
   "id": "b6959745",
   "metadata": {},
   "outputs": [],
   "source": [
    "nuclei_table['QC_classification'] = QC_classifier_table['class']\n",
    "actin_table['QC_classification'] = QC_classifier_table['class']\n"
   ]
  },
  {
   "cell_type": "code",
   "execution_count": 24,
   "id": "d7f0037d",
   "metadata": {},
   "outputs": [],
   "source": [
    "nuclei_table.to_csv(fname_nuclei)\n",
    "actin_table.to_csv(fname_actin)"
   ]
  },
  {
   "cell_type": "code",
   "execution_count": null,
   "id": "7fed763c",
   "metadata": {},
   "outputs": [],
   "source": []
  },
  {
   "cell_type": "code",
   "execution_count": 25,
   "id": "3d5193b9",
   "metadata": {},
   "outputs": [
    {
     "data": {
      "text/plain": [
       "0      negative\n",
       "1      positive\n",
       "2      positive\n",
       "3      negative\n",
       "4      negative\n",
       "         ...   \n",
       "259    positive\n",
       "260    positive\n",
       "261    positive\n",
       "262    positive\n",
       "263    positive\n",
       "Name: QC_classification, Length: 264, dtype: object"
      ]
     },
     "execution_count": 25,
     "metadata": {},
     "output_type": "execute_result"
    }
   ],
   "source": []
  },
  {
   "cell_type": "code",
   "execution_count": null,
   "id": "e51b7e09",
   "metadata": {},
   "outputs": [],
   "source": []
  },
  {
   "cell_type": "code",
   "execution_count": 18,
   "id": "b9ea16b5",
   "metadata": {},
   "outputs": [
    {
     "data": {
      "text/html": [
       "<div>\n",
       "<style scoped>\n",
       "    .dataframe tbody tr th:only-of-type {\n",
       "        vertical-align: middle;\n",
       "    }\n",
       "\n",
       "    .dataframe tbody tr th {\n",
       "        vertical-align: top;\n",
       "    }\n",
       "\n",
       "    .dataframe thead th {\n",
       "        text-align: right;\n",
       "    }\n",
       "</style>\n",
       "<table border=\"1\" class=\"dataframe\">\n",
       "  <thead>\n",
       "    <tr style=\"text-align: right;\">\n",
       "      <th></th>\n",
       "      <th>ImageNumber</th>\n",
       "      <th>ObjectNumber</th>\n",
       "      <th>class</th>\n",
       "      <th>class_number</th>\n",
       "    </tr>\n",
       "  </thead>\n",
       "  <tbody>\n",
       "    <tr>\n",
       "      <th>0</th>\n",
       "      <td>1</td>\n",
       "      <td>1</td>\n",
       "      <td>negative</td>\n",
       "      <td>2</td>\n",
       "    </tr>\n",
       "    <tr>\n",
       "      <th>1</th>\n",
       "      <td>1</td>\n",
       "      <td>2</td>\n",
       "      <td>positive</td>\n",
       "      <td>1</td>\n",
       "    </tr>\n",
       "    <tr>\n",
       "      <th>2</th>\n",
       "      <td>1</td>\n",
       "      <td>3</td>\n",
       "      <td>positive</td>\n",
       "      <td>1</td>\n",
       "    </tr>\n",
       "    <tr>\n",
       "      <th>3</th>\n",
       "      <td>1</td>\n",
       "      <td>4</td>\n",
       "      <td>negative</td>\n",
       "      <td>2</td>\n",
       "    </tr>\n",
       "    <tr>\n",
       "      <th>4</th>\n",
       "      <td>1</td>\n",
       "      <td>5</td>\n",
       "      <td>negative</td>\n",
       "      <td>2</td>\n",
       "    </tr>\n",
       "    <tr>\n",
       "      <th>...</th>\n",
       "      <td>...</td>\n",
       "      <td>...</td>\n",
       "      <td>...</td>\n",
       "      <td>...</td>\n",
       "    </tr>\n",
       "    <tr>\n",
       "      <th>259</th>\n",
       "      <td>51</td>\n",
       "      <td>2</td>\n",
       "      <td>positive</td>\n",
       "      <td>1</td>\n",
       "    </tr>\n",
       "    <tr>\n",
       "      <th>260</th>\n",
       "      <td>51</td>\n",
       "      <td>3</td>\n",
       "      <td>positive</td>\n",
       "      <td>1</td>\n",
       "    </tr>\n",
       "    <tr>\n",
       "      <th>261</th>\n",
       "      <td>51</td>\n",
       "      <td>4</td>\n",
       "      <td>positive</td>\n",
       "      <td>1</td>\n",
       "    </tr>\n",
       "    <tr>\n",
       "      <th>262</th>\n",
       "      <td>51</td>\n",
       "      <td>5</td>\n",
       "      <td>positive</td>\n",
       "      <td>1</td>\n",
       "    </tr>\n",
       "    <tr>\n",
       "      <th>263</th>\n",
       "      <td>51</td>\n",
       "      <td>6</td>\n",
       "      <td>positive</td>\n",
       "      <td>1</td>\n",
       "    </tr>\n",
       "  </tbody>\n",
       "</table>\n",
       "<p>264 rows × 4 columns</p>\n",
       "</div>"
      ],
      "text/plain": [
       "     ImageNumber  ObjectNumber     class  class_number\n",
       "0              1             1  negative             2\n",
       "1              1             2  positive             1\n",
       "2              1             3  positive             1\n",
       "3              1             4  negative             2\n",
       "4              1             5  negative             2\n",
       "..           ...           ...       ...           ...\n",
       "259           51             2  positive             1\n",
       "260           51             3  positive             1\n",
       "261           51             4  positive             1\n",
       "262           51             5  positive             1\n",
       "263           51             6  positive             1\n",
       "\n",
       "[264 rows x 4 columns]"
      ]
     },
     "execution_count": 18,
     "metadata": {},
     "output_type": "execute_result"
    }
   ],
   "source": [
    "QC_classifier_table"
   ]
  },
  {
   "cell_type": "code",
   "execution_count": 14,
   "id": "85ce5357",
   "metadata": {},
   "outputs": [
    {
     "data": {
      "text/plain": [
       "{'ImageNumber', 'ObjectNumber'}"
      ]
     },
     "execution_count": 14,
     "metadata": {},
     "output_type": "execute_result"
    }
   ],
   "source": [
    "set(QC_classifier_table.columns).intersection(set(nuclei_table.columns))"
   ]
  },
  {
   "cell_type": "code",
   "execution_count": null,
   "id": "fcf51a7c",
   "metadata": {},
   "outputs": [],
   "source": []
  }
 ],
 "metadata": {
  "kernelspec": {
   "display_name": "Python 3 (ipykernel)",
   "language": "python",
   "name": "python3"
  },
  "language_info": {
   "codemirror_mode": {
    "name": "ipython",
    "version": 3
   },
   "file_extension": ".py",
   "mimetype": "text/x-python",
   "name": "python",
   "nbconvert_exporter": "python",
   "pygments_lexer": "ipython3",
   "version": "3.8.8"
  }
 },
 "nbformat": 4,
 "nbformat_minor": 5
}
